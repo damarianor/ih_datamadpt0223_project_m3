{
 "cells": [
  {
   "cell_type": "code",
   "execution_count": 14,
   "id": "5a02a0a8",
   "metadata": {},
   "outputs": [],
   "source": [
    "import matplotlib.pyplot as plt\n",
    "import sys\n",
    "import numpy as np\n",
    "import seaborn as sns\n",
    "import duckdb\n",
    "import pandas as pd\n",
    "import plotly.express as px\n",
    "import statistics\n",
    "import seaborn as sns\n",
    "import matplotlib.pyplot as plt\n",
    "from sklearn import preprocessing\n",
    "from sklearn.preprocessing import LabelEncoder\n",
    "from sklearn.model_selection import train_test_split\n",
    "from sklearn.preprocessing import RobustScaler, StandardScaler\n",
    "from sklearn.preprocessing import OneHotEncoder, OrdinalEncoder\n",
    "from sklearn.model_selection import train_test_split\n",
    "from sklearn.linear_model import LogisticRegression\n",
    "from sklearn.ensemble import RandomForestClassifier\n",
    "from sklearn.metrics import roc_auc_score\n",
    "from sklearn.linear_model import LinearRegression\n",
    "from sklearn.metrics import mean_squared_error\n",
    "from sklearn.ensemble import GradientBoostingRegressor\n",
    "from sklearn.model_selection import cross_val_score\n",
    "from sklearn.ensemble import RandomForestRegressor, RandomForestClassifier"
   ]
  },
  {
   "cell_type": "code",
   "execution_count": 15,
   "id": "a9e2a6e7",
   "metadata": {},
   "outputs": [],
   "source": [
    "diamonds = duckdb.connect('./data/diamonds_train.db')\n",
    "diamonds"
   ]
  },
  {
   "cell_type": "code",
   "execution_count": null,
   "id": "b8e82c48",
   "metadata": {},
   "outputs": [],
   "source": [
    "duckdb.sql('INSTALL sqlite; LOAD sqlite;')"
   ]
  },
  {
   "cell_type": "code",
   "execution_count": null,
   "id": "41ee9b98",
   "metadata": {},
   "outputs": [],
   "source": [
    "tabla = diamonds.sql('describe').df()\n",
    "tabla"
   ]
  },
  {
   "cell_type": "code",
   "execution_count": null,
   "id": "70b56d94",
   "metadata": {},
   "outputs": [],
   "source": [
    "tabla.shape"
   ]
  },
  {
   "cell_type": "code",
   "execution_count": null,
   "id": "5887526a",
   "metadata": {},
   "outputs": [],
   "source": [
    "tabla.info()"
   ]
  },
  {
   "cell_type": "markdown",
   "id": "1dc19ea7",
   "metadata": {},
   "source": [
    "## Registro tablas"
   ]
  },
  {
   "cell_type": "code",
   "execution_count": null,
   "id": "4cda1862",
   "metadata": {},
   "outputs": [],
   "source": [
    "tabla_city = diamonds.sql('SELECT * from diamonds_city').df()\n",
    "tabla_city"
   ]
  },
  {
   "cell_type": "code",
   "execution_count": null,
   "id": "4189899d",
   "metadata": {},
   "outputs": [],
   "source": [
    "tabla_clarity = diamonds.sql('SELECT * from diamonds_clarity').df()\n",
    "tabla_clarity"
   ]
  },
  {
   "cell_type": "code",
   "execution_count": null,
   "id": "f997184d",
   "metadata": {},
   "outputs": [],
   "source": [
    "tabla_color = diamonds.sql('SELECT * from diamonds_color').df()\n",
    "tabla_color"
   ]
  },
  {
   "cell_type": "code",
   "execution_count": null,
   "id": "e057c32f",
   "metadata": {},
   "outputs": [],
   "source": [
    "tabla_cut = diamonds.sql('SELECT * from diamonds_cut').df()\n",
    "tabla_cut"
   ]
  },
  {
   "cell_type": "code",
   "execution_count": null,
   "id": "35485e4c",
   "metadata": {},
   "outputs": [],
   "source": [
    "tabla_dimensions = diamonds.sql('SELECT * from diamonds_dimensions').df()\n",
    "tabla_dimensions"
   ]
  },
  {
   "cell_type": "code",
   "execution_count": null,
   "id": "d0a54df1",
   "metadata": {},
   "outputs": [],
   "source": [
    "tabla_properties = diamonds.sql('SELECT * from diamonds_properties').df()\n",
    "tabla_properties"
   ]
  },
  {
   "cell_type": "code",
   "execution_count": null,
   "id": "f384d33e",
   "metadata": {},
   "outputs": [],
   "source": [
    "tabla_transactional = diamonds.sql('SELECT * from diamonds_transactional').df()\n",
    "tabla_transactional"
   ]
  },
  {
   "cell_type": "markdown",
   "id": "b2770b23",
   "metadata": {},
   "source": [
    "## Merge de los dataframes"
   ]
  },
  {
   "cell_type": "code",
   "execution_count": null,
   "id": "9ac64a9d",
   "metadata": {},
   "outputs": [],
   "source": [
    "tabla_price = pd.merge(tabla_dimensions, tabla_transactional, how='inner', on = 'index_id')\n",
    "tabla_price[:5]"
   ]
  },
  {
   "cell_type": "code",
   "execution_count": null,
   "id": "21029a32",
   "metadata": {},
   "outputs": [],
   "source": [
    "tabla_city = pd.merge(tabla_price, tabla_city, how='inner', on = 'city_id')\n",
    "tabla_city[:5]"
   ]
  },
  {
   "cell_type": "code",
   "execution_count": null,
   "id": "f692f6ac",
   "metadata": {},
   "outputs": [],
   "source": [
    "tabla_ids = pd.merge(tabla_city, tabla_properties, how='inner', on = 'index_id')\n",
    "tabla_ids[:5]"
   ]
  },
  {
   "cell_type": "code",
   "execution_count": null,
   "id": "df104b9d",
   "metadata": {},
   "outputs": [],
   "source": [
    "tabla_clar = pd.merge(tabla_ids, tabla_clarity, how='inner', on = 'clarity_id')\n",
    "tabla_clar[:5]"
   ]
  },
  {
   "cell_type": "code",
   "execution_count": null,
   "id": "27994f01",
   "metadata": {},
   "outputs": [],
   "source": [
    "tabla_color = pd.merge(tabla_clar, tabla_color, how='inner', on = 'color_id')\n",
    "tabla_color[:5]"
   ]
  },
  {
   "cell_type": "code",
   "execution_count": null,
   "id": "a7948bc0",
   "metadata": {},
   "outputs": [],
   "source": [
    "tabla_final = pd.merge(tabla_color, tabla_cut, how='inner', on = 'cut_id')\n",
    "tabla_final[:5]"
   ]
  },
  {
   "cell_type": "code",
   "execution_count": null,
   "id": "f82796cd",
   "metadata": {},
   "outputs": [],
   "source": [
    "train = tabla_final[['depth', 'table', 'x', 'y', 'z', 'price', 'carat', 'city', 'clarity', 'color', 'cut']]\n",
    "train"
   ]
  },
  {
   "cell_type": "code",
   "execution_count": null,
   "id": "453dd156",
   "metadata": {},
   "outputs": [],
   "source": [
    "train.describe()"
   ]
  },
  {
   "cell_type": "code",
   "execution_count": null,
   "id": "e0d1053a",
   "metadata": {},
   "outputs": [],
   "source": [
    "numerical = train.select_dtypes(include=['float64', 'int64'])\n",
    "numerical"
   ]
  },
  {
   "cell_type": "code",
   "execution_count": null,
   "id": "62240b12",
   "metadata": {},
   "outputs": [],
   "source": [
    "categorical = train.select_dtypes(include=['object'])\n",
    "categorical"
   ]
  },
  {
   "cell_type": "markdown",
   "id": "1e026d64",
   "metadata": {},
   "source": [
    "## Data Visualization"
   ]
  },
  {
   "cell_type": "code",
   "execution_count": null,
   "id": "55163b86",
   "metadata": {},
   "outputs": [],
   "source": [
    "train.plot(kind='box', figsize=(15,10), subplots=True, layout=(3,3))\n",
    "plt.show()"
   ]
  },
  {
   "cell_type": "code",
   "execution_count": null,
   "id": "03252575",
   "metadata": {},
   "outputs": [],
   "source": [
    "sns.histplot(x=numerical[\"price\"]);\n"
   ]
  },
  {
   "cell_type": "code",
   "execution_count": null,
   "id": "c50787f9",
   "metadata": {},
   "outputs": [],
   "source": [
    "sns.barplot(data=train, x=\"cut\", y=\"price\")"
   ]
  },
  {
   "cell_type": "code",
   "execution_count": null,
   "id": "d711e5b3",
   "metadata": {},
   "outputs": [],
   "source": [
    "x = train.plot.hexbin(x='price',\n",
    "                         y='carat',\n",
    "                         gridsize=30,\n",
    "                         sharex=False,     \n",
    "                         figsize=(10, 8))\n",
    "x.set_xlabel('price')\n",
    "x.set_ylabel('carat')\n",
    "plt.tight_layout()"
   ]
  },
  {
   "cell_type": "code",
   "execution_count": null,
   "id": "b06c3ffd",
   "metadata": {},
   "outputs": [],
   "source": [
    "corr = train.select_dtypes(include='number').corr()\n",
    "sns.heatmap(corr, cmap='coolwarm', annot=True)\n",
    "plt.show()"
   ]
  },
  {
   "cell_type": "markdown",
   "id": "7732918d",
   "metadata": {},
   "source": [
    "## Transform data"
   ]
  },
  {
   "cell_type": "markdown",
   "id": "b8d60154",
   "metadata": {},
   "source": [
    "### Encoding"
   ]
  },
  {
   "cell_type": "code",
   "execution_count": null,
   "id": "7a326bab",
   "metadata": {},
   "outputs": [],
   "source": [
    "test = pd.read_csv('./data/diamonds_test.csv')\n",
    "test"
   ]
  },
  {
   "cell_type": "code",
   "execution_count": null,
   "id": "b960d5f2",
   "metadata": {},
   "outputs": [],
   "source": [
    "target = 'price'\n",
    "cat_features = ['cut', 'color', 'clarity']\n",
    "num_features = ['carat', 'depth', 'table', 'x', 'y', 'z']\n",
    "\n",
    "for cat_feat in cat_features:\n",
    "    train[cat_feat] = train[cat_feat].astype('category')\n",
    "    test[cat_feat] = test[cat_feat].astype('category')\n",
    "    \n",
    "cat_df = pd.get_dummies(train[cat_features])\n",
    "num_df = train.loc[:,num_features]\n",
    "train_df = pd.concat([cat_df, num_df], axis=1)\n",
    "\n",
    "cat_df = pd.get_dummies(test[cat_features])\n",
    "num_df = test.loc[:,num_features]\n",
    "test_df = pd.concat([cat_df, num_df], axis=1)\n",
    "\n",
    "\n",
    "features = list(cat_df.columns) + list(num_df.columns)"
   ]
  },
  {
   "cell_type": "code",
   "execution_count": null,
   "id": "9535cc20",
   "metadata": {},
   "outputs": [],
   "source": [
    "train_df"
   ]
  },
  {
   "cell_type": "code",
   "execution_count": null,
   "id": "ebab8f0c",
   "metadata": {},
   "outputs": [],
   "source": [
    "boolean_columns = ['cut_Fair', 'cut_Good', 'cut_Ideal', 'cut_Premium', 'cut_Very Good',\n",
    "       'color_D', 'color_E', 'color_F', 'color_G', 'color_H', 'color_I',\n",
    "       'color_J', 'clarity_I1', 'clarity_IF', 'clarity_SI1', 'clarity_SI2',\n",
    "       'clarity_VS1', 'clarity_VS2', 'clarity_VVS1', 'clarity_VVS2']\n",
    "\n",
    "for col in boolean_columns:\n",
    "    train_df[col] = train_df[col].astype(int)"
   ]
  },
  {
   "cell_type": "code",
   "execution_count": null,
   "id": "8d28dd0e",
   "metadata": {},
   "outputs": [],
   "source": [
    "train_df"
   ]
  },
  {
   "cell_type": "code",
   "execution_count": null,
   "id": "74a20d29",
   "metadata": {},
   "outputs": [],
   "source": [
    "boolean_columns = ['cut_Fair', 'cut_Good', 'cut_Ideal', 'cut_Premium', 'cut_Very Good',\n",
    "       'color_D', 'color_E', 'color_F', 'color_G', 'color_H', 'color_I',\n",
    "       'color_J', 'clarity_I1', 'clarity_IF', 'clarity_SI1', 'clarity_SI2',\n",
    "       'clarity_VS1', 'clarity_VS2', 'clarity_VVS1', 'clarity_VVS2']\n",
    "\n",
    "for col in boolean_columns:\n",
    "    test_df[col] = test_df[col].astype(int)"
   ]
  },
  {
   "cell_type": "code",
   "execution_count": null,
   "id": "384b4f50",
   "metadata": {},
   "outputs": [],
   "source": [
    "test_df"
   ]
  },
  {
   "cell_type": "markdown",
   "id": "16a34a7e",
   "metadata": {},
   "source": [
    "### Scaling"
   ]
  },
  {
   "cell_type": "code",
   "execution_count": null,
   "id": "c42280cd",
   "metadata": {},
   "outputs": [],
   "source": [
    "scaler = StandardScaler()\n",
    "\n",
    "X = scaler.fit_transform(train_df.loc[:,features].values)\n",
    "y = train[target]"
   ]
  },
  {
   "cell_type": "code",
   "execution_count": null,
   "id": "9fbbc85b",
   "metadata": {},
   "outputs": [],
   "source": [
    "print(X.shape,y.shape)"
   ]
  },
  {
   "cell_type": "code",
   "execution_count": null,
   "id": "cb3c9b5d",
   "metadata": {},
   "outputs": [],
   "source": [
    "X_train, X_test, y_train, y_test = train_test_split(X, y, test_size=0.2, random_state=42)\n",
    "print(f\"X_train: {X_train.shape}, X_test: {X_test.shape}, y_train: {y_train.shape}, y_test: {y_test.shape}\")\n",
    "print(f\"X_train: {type(X_train)}, X_test: {type(X_test)}, y_train: {type(y_train)}, y_test: {type(y_test)}\")"
   ]
  },
  {
   "cell_type": "markdown",
   "id": "d1727f88",
   "metadata": {},
   "source": [
    "### Modeling"
   ]
  },
  {
   "cell_type": "markdown",
   "id": "4fbdf1d5",
   "metadata": {},
   "source": [
    "### Cat Boost Regressor"
   ]
  },
  {
   "cell_type": "code",
   "execution_count": null,
   "id": "7b86265b",
   "metadata": {},
   "outputs": [],
   "source": [
    "!pip install catboost"
   ]
  },
  {
   "cell_type": "code",
   "execution_count": null,
   "id": "6261765e",
   "metadata": {},
   "outputs": [],
   "source": [
    "from catboost import CatBoostRegressor"
   ]
  },
  {
   "cell_type": "code",
   "execution_count": null,
   "id": "03c09d62",
   "metadata": {},
   "outputs": [],
   "source": [
    "catboost = CatBoostRegressor()"
   ]
  },
  {
   "cell_type": "code",
   "execution_count": null,
   "id": "c2e65f80",
   "metadata": {},
   "outputs": [],
   "source": [
    "model_catboost = catboost.fit(X_train, y_train)\n",
    "y_pred_catboost = catboost.predict(X_test)\n",
    "mean_squared_error(y_test, y_pred_catboost)**0.5"
   ]
  },
  {
   "cell_type": "code",
   "execution_count": null,
   "id": "c3a1de65",
   "metadata": {},
   "outputs": [],
   "source": [
    "y_pred_catboost"
   ]
  },
  {
   "cell_type": "code",
   "execution_count": null,
   "id": "0b03e66d",
   "metadata": {},
   "outputs": [],
   "source": [
    "X_predict = scaler.transform(test_df.loc[:,features].values)\n",
    "\n",
    "# testing our model vs X_predict\n",
    "y_hat = catboost.predict(X_predict)"
   ]
  },
  {
   "cell_type": "code",
   "execution_count": null,
   "id": "23b38845",
   "metadata": {},
   "outputs": [],
   "source": [
    "y_hat"
   ]
  },
  {
   "cell_type": "code",
   "execution_count": null,
   "id": "c0cd6dd0",
   "metadata": {},
   "outputs": [],
   "source": [
    "errors = cross_val_score(catboost, X, y, cv=10, scoring='neg_mean_squared_error', n_jobs=-1)"
   ]
  },
  {
   "cell_type": "code",
   "execution_count": null,
   "id": "17e61f54",
   "metadata": {},
   "outputs": [],
   "source": [
    "np.mean(-errors)"
   ]
  },
  {
   "cell_type": "code",
   "execution_count": null,
   "id": "e8932bde",
   "metadata": {},
   "outputs": [],
   "source": [
    "submission_6 = pd.DataFrame({'id': test['id'], 'price': y_hat})\n",
    "submission_6.to_csv('submission_6.csv', index=False)"
   ]
  },
  {
   "cell_type": "markdown",
   "id": "e97f00a5",
   "metadata": {},
   "source": [
    "### GradientBoostingRegressor"
   ]
  },
  {
   "cell_type": "code",
   "execution_count": null,
   "id": "f04c11d3",
   "metadata": {},
   "outputs": [],
   "source": [
    "# Resultado: 548.59164\n",
    "\n",
    "params = {'n_estimators': 50,\n",
    "          'max_depth': 10,\n",
    "          'learning_rate': 0.16,\n",
    "          'loss': 'squared_error'}"
   ]
  },
  {
   "cell_type": "code",
   "execution_count": null,
   "id": "dc7524fa",
   "metadata": {},
   "outputs": [],
   "source": [
    "reg = GradientBoostingRegressor(**params)\n",
    "model_gb = reg.fit(X_train, y_train)\n",
    "y_pred_gb = reg.predict(X_test)\n",
    "mean_squared_error(y_test, y_pred_gb)**0.5"
   ]
  },
  {
   "cell_type": "code",
   "execution_count": null,
   "id": "e25bfcba",
   "metadata": {},
   "outputs": [],
   "source": [
    "model_gb = reg.fit(X, y)"
   ]
  },
  {
   "cell_type": "code",
   "execution_count": null,
   "id": "9d037f0f",
   "metadata": {},
   "outputs": [],
   "source": [
    "X_predict = scaler.transform(test_df.loc[:,features].values)\n",
    "\n",
    "# testing our model vs X_predict\n",
    "y_hat = reg.predict(X_predict)"
   ]
  },
  {
   "cell_type": "code",
   "execution_count": null,
   "id": "a61560a0",
   "metadata": {},
   "outputs": [],
   "source": [
    "errors = cross_val_score(reg, X, y, cv=10, scoring='neg_mean_squared_error', n_jobs=-1)"
   ]
  },
  {
   "cell_type": "code",
   "execution_count": null,
   "id": "1ede1068",
   "metadata": {},
   "outputs": [],
   "source": [
    "np.mean(-errors)"
   ]
  },
  {
   "cell_type": "markdown",
   "id": "6c3525fd",
   "metadata": {},
   "source": [
    "### Linear Regression"
   ]
  },
  {
   "cell_type": "code",
   "execution_count": null,
   "id": "460cf02e",
   "metadata": {},
   "outputs": [],
   "source": [
    "model = LinearRegression()"
   ]
  },
  {
   "cell_type": "code",
   "execution_count": null,
   "id": "84a37058",
   "metadata": {},
   "outputs": [],
   "source": [
    "model.fit(X_train, y_train)"
   ]
  },
  {
   "cell_type": "code",
   "execution_count": null,
   "id": "4eed9967",
   "metadata": {},
   "outputs": [],
   "source": [
    "y_pred_lr = model.predict(X_test)"
   ]
  },
  {
   "cell_type": "code",
   "execution_count": null,
   "id": "77de2c55",
   "metadata": {},
   "outputs": [],
   "source": [
    "mean_squared_error(y_test, y_pred_lr)**0.5"
   ]
  },
  {
   "cell_type": "code",
   "execution_count": null,
   "id": "ecf9484b",
   "metadata": {},
   "outputs": [],
   "source": [
    "X_predict = scaler.transform(test_df.loc[:,features].values)\n",
    "\n",
    "# testing our model vs X_predict\n",
    "y_hat = model.predict(X_predict)"
   ]
  },
  {
   "cell_type": "code",
   "execution_count": null,
   "id": "6dcaa1aa",
   "metadata": {},
   "outputs": [],
   "source": [
    "errors = cross_val_score(model, X, y, cv=10, scoring='neg_mean_squared_error', n_jobs=-1)"
   ]
  },
  {
   "cell_type": "code",
   "execution_count": null,
   "id": "2060adef",
   "metadata": {},
   "outputs": [],
   "source": [
    "np.mean(-errors)"
   ]
  },
  {
   "cell_type": "markdown",
   "id": "8c9c8fac",
   "metadata": {},
   "source": [
    "### MLP Regressor"
   ]
  },
  {
   "cell_type": "code",
   "execution_count": null,
   "id": "62561181",
   "metadata": {},
   "outputs": [],
   "source": [
    "from sklearn.neural_network import MLPRegressor\n",
    "from sklearn.metrics import mean_squared_error"
   ]
  },
  {
   "cell_type": "code",
   "execution_count": null,
   "id": "6f24cd16",
   "metadata": {},
   "outputs": [],
   "source": [
    "ann = MLPRegressor()"
   ]
  },
  {
   "cell_type": "code",
   "execution_count": null,
   "id": "9bf34085",
   "metadata": {},
   "outputs": [],
   "source": [
    "model_ann = ann.fit(X_train, y_train)\n",
    "y_pred_ann = ann.predict(X_test)\n",
    "mean_squared_error(y_test, y_pred_ann)**0.5"
   ]
  },
  {
   "cell_type": "code",
   "execution_count": null,
   "id": "e12ec616",
   "metadata": {},
   "outputs": [],
   "source": [
    "y_pred_ann"
   ]
  },
  {
   "cell_type": "code",
   "execution_count": null,
   "id": "e2bac2b2",
   "metadata": {},
   "outputs": [],
   "source": [
    "X_predict = scaler.transform(test_df.loc[:,features].values)\n",
    "\n",
    "# testing our model vs X_predict\n",
    "y_hat = ann.predict(X_predict)"
   ]
  },
  {
   "cell_type": "code",
   "execution_count": null,
   "id": "a265479f",
   "metadata": {},
   "outputs": [],
   "source": [
    "y_hat"
   ]
  },
  {
   "cell_type": "code",
   "execution_count": null,
   "id": "29fa92f4",
   "metadata": {},
   "outputs": [],
   "source": [
    "errors = cross_val_score(ann, X, y, cv=10, scoring='neg_mean_squared_error', n_jobs=-1)"
   ]
  },
  {
   "cell_type": "code",
   "execution_count": null,
   "id": "aab89695",
   "metadata": {},
   "outputs": [],
   "source": [
    "np.mean(-errors)"
   ]
  },
  {
   "cell_type": "markdown",
   "id": "46e9682b",
   "metadata": {},
   "source": [
    "### RandomForestRegressor"
   ]
  },
  {
   "cell_type": "code",
   "execution_count": null,
   "id": "b3584ea5",
   "metadata": {},
   "outputs": [],
   "source": [
    "rf = RandomForestRegressor()"
   ]
  },
  {
   "cell_type": "code",
   "execution_count": null,
   "id": "6d80d6ba",
   "metadata": {},
   "outputs": [],
   "source": [
    "model_rf = rf.fit(X_train, y_train)\n",
    "y_pred_rf = rf.predict(X_test)\n",
    "mean_squared_error(y_test, y_pred_rf)**0.5"
   ]
  },
  {
   "cell_type": "code",
   "execution_count": null,
   "id": "2f4d0938",
   "metadata": {},
   "outputs": [],
   "source": [
    "X_predict = scaler.transform(test_df.loc[:,features].values)\n",
    "\n",
    "# testing our model vs X_predict\n",
    "y_hat = rf.predict(X_predict)"
   ]
  },
  {
   "cell_type": "code",
   "execution_count": null,
   "id": "f388de27",
   "metadata": {},
   "outputs": [],
   "source": [
    "errors = cross_val_score(rf, X, y, cv=10, scoring='neg_mean_squared_error', n_jobs=-1)"
   ]
  },
  {
   "cell_type": "code",
   "execution_count": null,
   "id": "7e772d38",
   "metadata": {},
   "outputs": [],
   "source": [
    "np.mean(-errors)"
   ]
  },
  {
   "cell_type": "markdown",
   "id": "2d614e4e",
   "metadata": {},
   "source": [
    "### SVR"
   ]
  },
  {
   "cell_type": "code",
   "execution_count": null,
   "id": "43672f71",
   "metadata": {},
   "outputs": [],
   "source": [
    "from sklearn.svm import SVR"
   ]
  },
  {
   "cell_type": "code",
   "execution_count": null,
   "id": "f7cde5de",
   "metadata": {},
   "outputs": [],
   "source": [
    "svm = SVR()"
   ]
  },
  {
   "cell_type": "code",
   "execution_count": null,
   "id": "9802ec5c",
   "metadata": {},
   "outputs": [],
   "source": [
    "model_svm = svm.fit(X_train, y_train)\n",
    "y_pred_svm = svm.predict(X_test)\n",
    "rmse = mean_squared_error(y_test, y_pred_svm)**0.5"
   ]
  },
  {
   "cell_type": "code",
   "execution_count": null,
   "id": "9e340f3d",
   "metadata": {},
   "outputs": [],
   "source": [
    "X_predict = scaler.transform(test_df.loc[:, features].values)\n",
    "y_hat_svm = svm.predict(X_predict)"
   ]
  },
  {
   "cell_type": "code",
   "execution_count": null,
   "id": "339016b0",
   "metadata": {},
   "outputs": [],
   "source": [
    "errors = cross_val_score(svm, X, y, cv=10, scoring='neg_mean_squared_error', n_jobs=-1)"
   ]
  },
  {
   "cell_type": "code",
   "execution_count": null,
   "id": "21e1f96e",
   "metadata": {},
   "outputs": [],
   "source": [
    "np.mean(-errors)"
   ]
  },
  {
   "cell_type": "markdown",
   "id": "c9ea7e91",
   "metadata": {},
   "source": [
    "### Xgb Regressor"
   ]
  },
  {
   "cell_type": "code",
   "execution_count": null,
   "id": "83d359b5",
   "metadata": {},
   "outputs": [],
   "source": [
    "!pip install xgboost\n",
    "from xgboost import XGBRegressor\n",
    "\n",
    "xgbr = XGBRegressor(verbosity=0) \n",
    "model_xgbr = xgbr.fit(X_train, y_train)\n",
    "y_pred_xgbr = xgbr.predict(X_test)\n",
    "mean_squared_error(y_test, y_pred_xgbr)**0.5"
   ]
  },
  {
   "cell_type": "code",
   "execution_count": null,
   "id": "d51443de",
   "metadata": {},
   "outputs": [],
   "source": [
    "X_predict = scaler.transform(test_df.loc[:,features].values)\n",
    "\n",
    "# testing our model vs X_predict\n",
    "y_hat = xgbr.predict(X_predict)"
   ]
  },
  {
   "cell_type": "code",
   "execution_count": null,
   "id": "203c95a3",
   "metadata": {},
   "outputs": [],
   "source": [
    "from sklearn.metrics import mean_squared_error\n",
    "errors = cross_val_score(xgbr, X, y, cv=10, scoring='neg_mean_squared_error', n_jobs=-1)\n",
    "rmse_cv = (-errors.mean()) ** 0.5"
   ]
  },
  {
   "cell_type": "code",
   "execution_count": null,
   "id": "2ef69b6e",
   "metadata": {},
   "outputs": [],
   "source": [
    "np.mean(-errors)"
   ]
  },
  {
   "cell_type": "code",
   "execution_count": null,
   "id": "40166a52",
   "metadata": {},
   "outputs": [],
   "source": []
  }
 ],
 "metadata": {
  "kernelspec": {
   "display_name": "m3_env",
   "language": "python",
   "name": "m3_env"
  },
  "language_info": {
   "codemirror_mode": {
    "name": "ipython",
    "version": 3
   },
   "file_extension": ".py",
   "mimetype": "text/x-python",
   "name": "python",
   "nbconvert_exporter": "python",
   "pygments_lexer": "ipython3",
   "version": "3.11.3"
  }
 },
 "nbformat": 4,
 "nbformat_minor": 5
}
